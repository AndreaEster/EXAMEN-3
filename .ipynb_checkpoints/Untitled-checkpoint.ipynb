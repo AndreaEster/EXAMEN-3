{
 "cells": [
  {
   "cell_type": "code",
   "execution_count": 1,
   "id": "155b48b1-9f91-4838-83ac-6b9efa9a9439",
   "metadata": {},
   "outputs": [],
   "source": [
    "import pandas as pd"
   ]
  },
  {
   "cell_type": "code",
   "execution_count": 2,
   "id": "a6a2fe47-4b0d-447e-86ae-12804368f97a",
   "metadata": {},
   "outputs": [],
   "source": [
    "adidas = pd.read_csv('adidas.csv')"
   ]
  },
  {
   "cell_type": "code",
   "execution_count": 18,
   "id": "f56a18e3-65f6-49de-881a-c8fb58dd2877",
   "metadata": {},
   "outputs": [
    {
     "data": {
      "text/plain": [
       "(845, 20)"
      ]
     },
     "execution_count": 18,
     "metadata": {},
     "output_type": "execute_result"
    }
   ],
   "source": [
    "adidas.shape"
   ]
  },
  {
   "cell_type": "code",
   "execution_count": 9,
   "id": "c1fc9578-493a-484c-99bf-931d48870e95",
   "metadata": {},
   "outputs": [
    {
     "data": {
      "text/plain": [
       "Index(['url', 'name', 'sku', 'selling_price', 'original_price', 'currency',\n",
       "       'availability', 'color', 'category', 'source', 'source_website',\n",
       "       'breadcrumbs', 'description', 'brand', 'images', 'country', 'language',\n",
       "       'average_rating', 'reviews_count', 'crawled_at'],\n",
       "      dtype='object')"
      ]
     },
     "execution_count": 9,
     "metadata": {},
     "output_type": "execute_result"
    }
   ],
   "source": [
    "adidas.columns"
   ]
  },
  {
   "cell_type": "code",
   "execution_count": 11,
   "id": "2cf4b452-6081-4bff-9595-f300fd8051dd",
   "metadata": {},
   "outputs": [
    {
     "data": {
      "text/html": [
       "<div>\n",
       "<style scoped>\n",
       "    .dataframe tbody tr th:only-of-type {\n",
       "        vertical-align: middle;\n",
       "    }\n",
       "\n",
       "    .dataframe tbody tr th {\n",
       "        vertical-align: top;\n",
       "    }\n",
       "\n",
       "    .dataframe thead th {\n",
       "        text-align: right;\n",
       "    }\n",
       "</style>\n",
       "<table border=\"1\" class=\"dataframe\">\n",
       "  <thead>\n",
       "    <tr style=\"text-align: right;\">\n",
       "      <th></th>\n",
       "      <th>url</th>\n",
       "      <th>name</th>\n",
       "      <th>sku</th>\n",
       "      <th>selling_price</th>\n",
       "      <th>original_price</th>\n",
       "      <th>currency</th>\n",
       "      <th>availability</th>\n",
       "      <th>color</th>\n",
       "      <th>category</th>\n",
       "      <th>source</th>\n",
       "      <th>source_website</th>\n",
       "      <th>breadcrumbs</th>\n",
       "      <th>description</th>\n",
       "      <th>brand</th>\n",
       "      <th>images</th>\n",
       "      <th>country</th>\n",
       "      <th>language</th>\n",
       "      <th>average_rating</th>\n",
       "      <th>reviews_count</th>\n",
       "      <th>crawled_at</th>\n",
       "    </tr>\n",
       "  </thead>\n",
       "  <tbody>\n",
       "    <tr>\n",
       "      <th>0</th>\n",
       "      <td>https://www.adidas.com/us/beach-shorts/FJ5089....</td>\n",
       "      <td>Beach Shorts</td>\n",
       "      <td>FJ5089</td>\n",
       "      <td>40</td>\n",
       "      <td>NaN</td>\n",
       "      <td>USD</td>\n",
       "      <td>InStock</td>\n",
       "      <td>Black</td>\n",
       "      <td>Clothing</td>\n",
       "      <td>adidas United States</td>\n",
       "      <td>https://www.adidas.com</td>\n",
       "      <td>Women/Clothing</td>\n",
       "      <td>Splashing in the surf. Making memories with yo...</td>\n",
       "      <td>adidas</td>\n",
       "      <td>https://assets.adidas.com/images/w_600,f_auto,...</td>\n",
       "      <td>USA</td>\n",
       "      <td>en</td>\n",
       "      <td>4.5</td>\n",
       "      <td>35</td>\n",
       "      <td>2021-10-23 17:50:17.331255</td>\n",
       "    </tr>\n",
       "    <tr>\n",
       "      <th>1</th>\n",
       "      <td>https://www.adidas.com/us/five-ten-kestrel-lac...</td>\n",
       "      <td>Five Ten Kestrel Lace Mountain Bike Shoes</td>\n",
       "      <td>BC0770</td>\n",
       "      <td>150</td>\n",
       "      <td>NaN</td>\n",
       "      <td>USD</td>\n",
       "      <td>InStock</td>\n",
       "      <td>Grey</td>\n",
       "      <td>Shoes</td>\n",
       "      <td>adidas United States</td>\n",
       "      <td>https://www.adidas.com</td>\n",
       "      <td>Women/Shoes</td>\n",
       "      <td>Lace up and get after it. The Five Ten Kestrel...</td>\n",
       "      <td>adidas</td>\n",
       "      <td>https://assets.adidas.com/images/w_600,f_auto,...</td>\n",
       "      <td>USA</td>\n",
       "      <td>en</td>\n",
       "      <td>4.8</td>\n",
       "      <td>4</td>\n",
       "      <td>2021-10-23 17:50:17.423830</td>\n",
       "    </tr>\n",
       "    <tr>\n",
       "      <th>2</th>\n",
       "      <td>https://www.adidas.com/us/mexico-away-jersey/G...</td>\n",
       "      <td>Mexico Away Jersey</td>\n",
       "      <td>GC7946</td>\n",
       "      <td>70</td>\n",
       "      <td>NaN</td>\n",
       "      <td>USD</td>\n",
       "      <td>InStock</td>\n",
       "      <td>White</td>\n",
       "      <td>Clothing</td>\n",
       "      <td>adidas United States</td>\n",
       "      <td>https://www.adidas.com</td>\n",
       "      <td>Kids/Clothing</td>\n",
       "      <td>Clean and crisp, this adidas Mexico Away Jerse...</td>\n",
       "      <td>adidas</td>\n",
       "      <td>https://assets.adidas.com/images/w_600,f_auto,...</td>\n",
       "      <td>USA</td>\n",
       "      <td>en</td>\n",
       "      <td>4.9</td>\n",
       "      <td>42</td>\n",
       "      <td>2021-10-23 17:50:17.530834</td>\n",
       "    </tr>\n",
       "  </tbody>\n",
       "</table>\n",
       "</div>"
      ],
      "text/plain": [
       "                                                 url  \\\n",
       "0  https://www.adidas.com/us/beach-shorts/FJ5089....   \n",
       "1  https://www.adidas.com/us/five-ten-kestrel-lac...   \n",
       "2  https://www.adidas.com/us/mexico-away-jersey/G...   \n",
       "\n",
       "                                        name     sku  selling_price  \\\n",
       "0                               Beach Shorts  FJ5089             40   \n",
       "1  Five Ten Kestrel Lace Mountain Bike Shoes  BC0770            150   \n",
       "2                         Mexico Away Jersey  GC7946             70   \n",
       "\n",
       "  original_price currency availability  color  category                source  \\\n",
       "0            NaN      USD      InStock  Black  Clothing  adidas United States   \n",
       "1            NaN      USD      InStock   Grey     Shoes  adidas United States   \n",
       "2            NaN      USD      InStock  White  Clothing  adidas United States   \n",
       "\n",
       "           source_website     breadcrumbs  \\\n",
       "0  https://www.adidas.com  Women/Clothing   \n",
       "1  https://www.adidas.com     Women/Shoes   \n",
       "2  https://www.adidas.com   Kids/Clothing   \n",
       "\n",
       "                                         description   brand  \\\n",
       "0  Splashing in the surf. Making memories with yo...  adidas   \n",
       "1  Lace up and get after it. The Five Ten Kestrel...  adidas   \n",
       "2  Clean and crisp, this adidas Mexico Away Jerse...  adidas   \n",
       "\n",
       "                                              images country language  \\\n",
       "0  https://assets.adidas.com/images/w_600,f_auto,...     USA       en   \n",
       "1  https://assets.adidas.com/images/w_600,f_auto,...     USA       en   \n",
       "2  https://assets.adidas.com/images/w_600,f_auto,...     USA       en   \n",
       "\n",
       "   average_rating  reviews_count                  crawled_at  \n",
       "0             4.5             35  2021-10-23 17:50:17.331255  \n",
       "1             4.8              4  2021-10-23 17:50:17.423830  \n",
       "2             4.9             42  2021-10-23 17:50:17.530834  "
      ]
     },
     "execution_count": 11,
     "metadata": {},
     "output_type": "execute_result"
    }
   ],
   "source": [
    "adidas.head(3)"
   ]
  },
  {
   "cell_type": "code",
   "execution_count": 13,
   "id": "c3c179c7-5b94-47f2-9fb4-10686ba2e770",
   "metadata": {},
   "outputs": [],
   "source": [
    "cols = ['url', 'name', 'sku', 'currency',\n",
    "       'availability', 'color', 'category', 'source', 'source_website',\n",
    "       'breadcrumbs', 'description', 'brand', 'images', 'country', 'language']"
   ]
  },
  {
   "cell_type": "code",
   "execution_count": 27,
   "id": "d79f80f5-ffab-4b7c-b0af-5d6cefdcae3d",
   "metadata": {},
   "outputs": [],
   "source": [
    "cols_validas = []\n",
    "cols_many_levels = []\n",
    "cols_one_level = []\n",
    "\n",
    "size_df = adidas.shape[0]\n",
    "umbral = .95\n",
    "\n",
    "for c_ in cols:\n",
    "    \n",
    "    niveles = adidas.loc[ : , [c_] ].drop_duplicates().shape[0]\n",
    "    \n",
    "    if ( niveles / size_df ) >= umbral:\n",
    "        cols_many_levels.append(c_)\n",
    "    elif niveles == 1:\n",
    "        cols_one_level.append(c_)\n",
    "    else:\n",
    "       cols_validas.append(c_)"
   ]
  },
  {
   "cell_type": "code",
   "execution_count": 28,
   "id": "3627892c-bd40-4958-9cde-85dae5bdfc2f",
   "metadata": {},
   "outputs": [
    {
     "data": {
      "text/plain": [
       "['url', 'sku', 'images']"
      ]
     },
     "execution_count": 28,
     "metadata": {},
     "output_type": "execute_result"
    }
   ],
   "source": [
    "cols_many_levels"
   ]
  },
  {
   "cell_type": "code",
   "execution_count": 29,
   "id": "49a0d72a-ddc9-44e5-9b22-94919a5eb269",
   "metadata": {},
   "outputs": [
    {
     "data": {
      "text/plain": [
       "['name', 'availability', 'color', 'category', 'breadcrumbs', 'description']"
      ]
     },
     "execution_count": 29,
     "metadata": {},
     "output_type": "execute_result"
    }
   ],
   "source": [
    "cols_validas"
   ]
  },
  {
   "cell_type": "code",
   "execution_count": 30,
   "id": "d860b139-a4a9-4b3b-b97d-72d75aa979c8",
   "metadata": {},
   "outputs": [
    {
     "data": {
      "text/plain": [
       "['currency', 'source', 'source_website', 'brand', 'country', 'language']"
      ]
     },
     "execution_count": 30,
     "metadata": {},
     "output_type": "execute_result"
    }
   ],
   "source": [
    "cols_one_level"
   ]
  },
  {
   "cell_type": "code",
   "execution_count": 34,
   "id": "f0b0aac2-4012-4274-9dbe-968a13ae12a2",
   "metadata": {},
   "outputs": [
    {
     "data": {
      "text/html": [
       "<div>\n",
       "<style scoped>\n",
       "    .dataframe tbody tr th:only-of-type {\n",
       "        vertical-align: middle;\n",
       "    }\n",
       "\n",
       "    .dataframe tbody tr th {\n",
       "        vertical-align: top;\n",
       "    }\n",
       "\n",
       "    .dataframe thead th {\n",
       "        text-align: right;\n",
       "    }\n",
       "</style>\n",
       "<table border=\"1\" class=\"dataframe\">\n",
       "  <thead>\n",
       "    <tr style=\"text-align: right;\">\n",
       "      <th></th>\n",
       "      <th>currency</th>\n",
       "      <th>source</th>\n",
       "      <th>source_website</th>\n",
       "      <th>brand</th>\n",
       "      <th>country</th>\n",
       "      <th>language</th>\n",
       "    </tr>\n",
       "  </thead>\n",
       "  <tbody>\n",
       "    <tr>\n",
       "      <th>0</th>\n",
       "      <td>USD</td>\n",
       "      <td>adidas United States</td>\n",
       "      <td>https://www.adidas.com</td>\n",
       "      <td>adidas</td>\n",
       "      <td>USA</td>\n",
       "      <td>en</td>\n",
       "    </tr>\n",
       "  </tbody>\n",
       "</table>\n",
       "</div>"
      ],
      "text/plain": [
       "  currency                source          source_website   brand country  \\\n",
       "0      USD  adidas United States  https://www.adidas.com  adidas     USA   \n",
       "\n",
       "  language  \n",
       "0       en  "
      ]
     },
     "execution_count": 34,
     "metadata": {},
     "output_type": "execute_result"
    }
   ],
   "source": [
    "adidas.loc[ :  , cols_one_level ].drop_duplicates()"
   ]
  },
  {
   "cell_type": "code",
   "execution_count": 36,
   "id": "b751f572-108b-4d5e-af40-7cc1b626d645",
   "metadata": {},
   "outputs": [
    {
     "data": {
      "text/html": [
       "<div>\n",
       "<style scoped>\n",
       "    .dataframe tbody tr th:only-of-type {\n",
       "        vertical-align: middle;\n",
       "    }\n",
       "\n",
       "    .dataframe tbody tr th {\n",
       "        vertical-align: top;\n",
       "    }\n",
       "\n",
       "    .dataframe thead th {\n",
       "        text-align: right;\n",
       "    }\n",
       "</style>\n",
       "<table border=\"1\" class=\"dataframe\">\n",
       "  <thead>\n",
       "    <tr style=\"text-align: right;\">\n",
       "      <th></th>\n",
       "      <th>url</th>\n",
       "      <th>sku</th>\n",
       "      <th>images</th>\n",
       "    </tr>\n",
       "  </thead>\n",
       "  <tbody>\n",
       "    <tr>\n",
       "      <th>0</th>\n",
       "      <td>https://www.adidas.com/us/beach-shorts/FJ5089....</td>\n",
       "      <td>FJ5089</td>\n",
       "      <td>https://assets.adidas.com/images/w_600,f_auto,...</td>\n",
       "    </tr>\n",
       "    <tr>\n",
       "      <th>1</th>\n",
       "      <td>https://www.adidas.com/us/five-ten-kestrel-lac...</td>\n",
       "      <td>BC0770</td>\n",
       "      <td>https://assets.adidas.com/images/w_600,f_auto,...</td>\n",
       "    </tr>\n",
       "    <tr>\n",
       "      <th>2</th>\n",
       "      <td>https://www.adidas.com/us/mexico-away-jersey/G...</td>\n",
       "      <td>GC7946</td>\n",
       "      <td>https://assets.adidas.com/images/w_600,f_auto,...</td>\n",
       "    </tr>\n",
       "    <tr>\n",
       "      <th>3</th>\n",
       "      <td>https://www.adidas.com/us/five-ten-hiangle-pro...</td>\n",
       "      <td>FV4744</td>\n",
       "      <td>https://assets.adidas.com/images/w_600,f_auto,...</td>\n",
       "    </tr>\n",
       "    <tr>\n",
       "      <th>4</th>\n",
       "      <td>https://www.adidas.com/us/mesh-broken-stripe-p...</td>\n",
       "      <td>GM0239</td>\n",
       "      <td>https://assets.adidas.com/images/w_600,f_auto,...</td>\n",
       "    </tr>\n",
       "    <tr>\n",
       "      <th>...</th>\n",
       "      <td>...</td>\n",
       "      <td>...</td>\n",
       "      <td>...</td>\n",
       "    </tr>\n",
       "    <tr>\n",
       "      <th>840</th>\n",
       "      <td>https://www.adidas.com/us/supernova-plus-shoes...</td>\n",
       "      <td>FX2858</td>\n",
       "      <td>https://assets.adidas.com/images/w_600,f_auto,...</td>\n",
       "    </tr>\n",
       "    <tr>\n",
       "      <th>841</th>\n",
       "      <td>https://www.adidas.com/us/choigo-shoes/H00667....</td>\n",
       "      <td>H00667</td>\n",
       "      <td>https://assets.adidas.com/images/w_600,f_auto,...</td>\n",
       "    </tr>\n",
       "    <tr>\n",
       "      <th>842</th>\n",
       "      <td>https://www.adidas.com/us/daily-3.0-shoes/GZ77...</td>\n",
       "      <td>GZ7705</td>\n",
       "      <td>https://assets.adidas.com/images/w_600,f_auto,...</td>\n",
       "    </tr>\n",
       "    <tr>\n",
       "      <th>843</th>\n",
       "      <td>https://www.adidas.com/us/daily-3.0-shoes/GZ77...</td>\n",
       "      <td>GZ7706</td>\n",
       "      <td>https://assets.adidas.com/images/w_600,f_auto,...</td>\n",
       "    </tr>\n",
       "    <tr>\n",
       "      <th>844</th>\n",
       "      <td>https://www.adidas.com/us/choigo-shoes/FY6503....</td>\n",
       "      <td>FY6503</td>\n",
       "      <td>https://assets.adidas.com/images/w_600,f_auto,...</td>\n",
       "    </tr>\n",
       "  </tbody>\n",
       "</table>\n",
       "<p>845 rows × 3 columns</p>\n",
       "</div>"
      ],
      "text/plain": [
       "                                                   url     sku  \\\n",
       "0    https://www.adidas.com/us/beach-shorts/FJ5089....  FJ5089   \n",
       "1    https://www.adidas.com/us/five-ten-kestrel-lac...  BC0770   \n",
       "2    https://www.adidas.com/us/mexico-away-jersey/G...  GC7946   \n",
       "3    https://www.adidas.com/us/five-ten-hiangle-pro...  FV4744   \n",
       "4    https://www.adidas.com/us/mesh-broken-stripe-p...  GM0239   \n",
       "..                                                 ...     ...   \n",
       "840  https://www.adidas.com/us/supernova-plus-shoes...  FX2858   \n",
       "841  https://www.adidas.com/us/choigo-shoes/H00667....  H00667   \n",
       "842  https://www.adidas.com/us/daily-3.0-shoes/GZ77...  GZ7705   \n",
       "843  https://www.adidas.com/us/daily-3.0-shoes/GZ77...  GZ7706   \n",
       "844  https://www.adidas.com/us/choigo-shoes/FY6503....  FY6503   \n",
       "\n",
       "                                                images  \n",
       "0    https://assets.adidas.com/images/w_600,f_auto,...  \n",
       "1    https://assets.adidas.com/images/w_600,f_auto,...  \n",
       "2    https://assets.adidas.com/images/w_600,f_auto,...  \n",
       "3    https://assets.adidas.com/images/w_600,f_auto,...  \n",
       "4    https://assets.adidas.com/images/w_600,f_auto,...  \n",
       "..                                                 ...  \n",
       "840  https://assets.adidas.com/images/w_600,f_auto,...  \n",
       "841  https://assets.adidas.com/images/w_600,f_auto,...  \n",
       "842  https://assets.adidas.com/images/w_600,f_auto,...  \n",
       "843  https://assets.adidas.com/images/w_600,f_auto,...  \n",
       "844  https://assets.adidas.com/images/w_600,f_auto,...  \n",
       "\n",
       "[845 rows x 3 columns]"
      ]
     },
     "execution_count": 36,
     "metadata": {},
     "output_type": "execute_result"
    }
   ],
   "source": [
    "adidas.loc[ :  , cols_many_levels ].drop_duplicates()"
   ]
  },
  {
   "cell_type": "code",
   "execution_count": 37,
   "id": "54580043-da49-414c-9105-f45be985ccd5",
   "metadata": {},
   "outputs": [
    {
     "data": {
      "text/html": [
       "<div>\n",
       "<style scoped>\n",
       "    .dataframe tbody tr th:only-of-type {\n",
       "        vertical-align: middle;\n",
       "    }\n",
       "\n",
       "    .dataframe tbody tr th {\n",
       "        vertical-align: top;\n",
       "    }\n",
       "\n",
       "    .dataframe thead th {\n",
       "        text-align: right;\n",
       "    }\n",
       "</style>\n",
       "<table border=\"1\" class=\"dataframe\">\n",
       "  <thead>\n",
       "    <tr style=\"text-align: right;\">\n",
       "      <th></th>\n",
       "      <th>name</th>\n",
       "      <th>availability</th>\n",
       "      <th>color</th>\n",
       "      <th>category</th>\n",
       "      <th>breadcrumbs</th>\n",
       "      <th>description</th>\n",
       "    </tr>\n",
       "  </thead>\n",
       "  <tbody>\n",
       "    <tr>\n",
       "      <th>0</th>\n",
       "      <td>Beach Shorts</td>\n",
       "      <td>InStock</td>\n",
       "      <td>Black</td>\n",
       "      <td>Clothing</td>\n",
       "      <td>Women/Clothing</td>\n",
       "      <td>Splashing in the surf. Making memories with yo...</td>\n",
       "    </tr>\n",
       "    <tr>\n",
       "      <th>1</th>\n",
       "      <td>Five Ten Kestrel Lace Mountain Bike Shoes</td>\n",
       "      <td>InStock</td>\n",
       "      <td>Grey</td>\n",
       "      <td>Shoes</td>\n",
       "      <td>Women/Shoes</td>\n",
       "      <td>Lace up and get after it. The Five Ten Kestrel...</td>\n",
       "    </tr>\n",
       "    <tr>\n",
       "      <th>2</th>\n",
       "      <td>Mexico Away Jersey</td>\n",
       "      <td>InStock</td>\n",
       "      <td>White</td>\n",
       "      <td>Clothing</td>\n",
       "      <td>Kids/Clothing</td>\n",
       "      <td>Clean and crisp, this adidas Mexico Away Jerse...</td>\n",
       "    </tr>\n",
       "    <tr>\n",
       "      <th>3</th>\n",
       "      <td>Five Ten Hiangle Pro Competition Climbing Shoes</td>\n",
       "      <td>InStock</td>\n",
       "      <td>Black</td>\n",
       "      <td>Shoes</td>\n",
       "      <td>Five Ten/Shoes</td>\n",
       "      <td>The Hiangle Pro takes on the classic shape of ...</td>\n",
       "    </tr>\n",
       "    <tr>\n",
       "      <th>4</th>\n",
       "      <td>Mesh Broken-Stripe Polo Shirt</td>\n",
       "      <td>InStock</td>\n",
       "      <td>Blue</td>\n",
       "      <td>Clothing</td>\n",
       "      <td>Men/Clothing</td>\n",
       "      <td>Step up to the tee relaxed. This adidas golf p...</td>\n",
       "    </tr>\n",
       "    <tr>\n",
       "      <th>...</th>\n",
       "      <td>...</td>\n",
       "      <td>...</td>\n",
       "      <td>...</td>\n",
       "      <td>...</td>\n",
       "      <td>...</td>\n",
       "      <td>...</td>\n",
       "    </tr>\n",
       "    <tr>\n",
       "      <th>840</th>\n",
       "      <td>Supernova+ Shoes</td>\n",
       "      <td>InStock</td>\n",
       "      <td>White</td>\n",
       "      <td>Shoes</td>\n",
       "      <td>Women/Shoes</td>\n",
       "      <td>Take off. Touch down. Repeat. These adidas run...</td>\n",
       "    </tr>\n",
       "    <tr>\n",
       "      <th>841</th>\n",
       "      <td>Choigo Shoes</td>\n",
       "      <td>InStock</td>\n",
       "      <td>White</td>\n",
       "      <td>Shoes</td>\n",
       "      <td>Women/Shoes</td>\n",
       "      <td>If you want drama, the bold female track and f...</td>\n",
       "    </tr>\n",
       "    <tr>\n",
       "      <th>842</th>\n",
       "      <td>Daily 3.0 Shoes</td>\n",
       "      <td>InStock</td>\n",
       "      <td>Black</td>\n",
       "      <td>Shoes</td>\n",
       "      <td>Kids/Shoes</td>\n",
       "      <td>The style is in the details of the Daily 3.0 S...</td>\n",
       "    </tr>\n",
       "    <tr>\n",
       "      <th>843</th>\n",
       "      <td>Daily 3.0 Shoes</td>\n",
       "      <td>InStock</td>\n",
       "      <td>Pink</td>\n",
       "      <td>Shoes</td>\n",
       "      <td>Kids/Shoes</td>\n",
       "      <td>The style is in the details of the Daily 3.0 S...</td>\n",
       "    </tr>\n",
       "    <tr>\n",
       "      <th>844</th>\n",
       "      <td>Choigo Shoes</td>\n",
       "      <td>InStock</td>\n",
       "      <td>Black</td>\n",
       "      <td>Shoes</td>\n",
       "      <td>Women/Shoes</td>\n",
       "      <td>Take your style to bold new heights. Throw in ...</td>\n",
       "    </tr>\n",
       "  </tbody>\n",
       "</table>\n",
       "<p>845 rows × 6 columns</p>\n",
       "</div>"
      ],
      "text/plain": [
       "                                                name availability  color  \\\n",
       "0                                       Beach Shorts      InStock  Black   \n",
       "1          Five Ten Kestrel Lace Mountain Bike Shoes      InStock   Grey   \n",
       "2                                 Mexico Away Jersey      InStock  White   \n",
       "3    Five Ten Hiangle Pro Competition Climbing Shoes      InStock  Black   \n",
       "4                      Mesh Broken-Stripe Polo Shirt      InStock   Blue   \n",
       "..                                               ...          ...    ...   \n",
       "840                                 Supernova+ Shoes      InStock  White   \n",
       "841                                     Choigo Shoes      InStock  White   \n",
       "842                                  Daily 3.0 Shoes      InStock  Black   \n",
       "843                                  Daily 3.0 Shoes      InStock   Pink   \n",
       "844                                     Choigo Shoes      InStock  Black   \n",
       "\n",
       "     category     breadcrumbs  \\\n",
       "0    Clothing  Women/Clothing   \n",
       "1       Shoes     Women/Shoes   \n",
       "2    Clothing   Kids/Clothing   \n",
       "3       Shoes  Five Ten/Shoes   \n",
       "4    Clothing    Men/Clothing   \n",
       "..        ...             ...   \n",
       "840     Shoes     Women/Shoes   \n",
       "841     Shoes     Women/Shoes   \n",
       "842     Shoes      Kids/Shoes   \n",
       "843     Shoes      Kids/Shoes   \n",
       "844     Shoes     Women/Shoes   \n",
       "\n",
       "                                           description  \n",
       "0    Splashing in the surf. Making memories with yo...  \n",
       "1    Lace up and get after it. The Five Ten Kestrel...  \n",
       "2    Clean and crisp, this adidas Mexico Away Jerse...  \n",
       "3    The Hiangle Pro takes on the classic shape of ...  \n",
       "4    Step up to the tee relaxed. This adidas golf p...  \n",
       "..                                                 ...  \n",
       "840  Take off. Touch down. Repeat. These adidas run...  \n",
       "841  If you want drama, the bold female track and f...  \n",
       "842  The style is in the details of the Daily 3.0 S...  \n",
       "843  The style is in the details of the Daily 3.0 S...  \n",
       "844  Take your style to bold new heights. Throw in ...  \n",
       "\n",
       "[845 rows x 6 columns]"
      ]
     },
     "execution_count": 37,
     "metadata": {},
     "output_type": "execute_result"
    }
   ],
   "source": [
    "adidas.loc[ :  , cols_validas ]"
   ]
  },
  {
   "cell_type": "code",
   "execution_count": 40,
   "id": "77a5fe60-06c8-4866-a493-81c756e520c8",
   "metadata": {},
   "outputs": [
    {
     "data": {
      "text/plain": [
       "availability\n",
       "InStock         0.99645\n",
       "OutOfStock      0.00355\n",
       "dtype: float64"
      ]
     },
     "execution_count": 40,
     "metadata": {},
     "output_type": "execute_result"
    }
   ],
   "source": [
    "adidas.loc[ : , [\"availability\"] ].value_counts() / size_df"
   ]
  },
  {
   "cell_type": "code",
   "execution_count": null,
   "id": "a5af2fc7-1069-4712-8195-c53e0f756009",
   "metadata": {},
   "outputs": [],
   "source": []
  }
 ],
 "metadata": {
  "kernelspec": {
   "display_name": "Python 3",
   "language": "python",
   "name": "python3"
  },
  "language_info": {
   "codemirror_mode": {
    "name": "ipython",
    "version": 3
   },
   "file_extension": ".py",
   "mimetype": "text/x-python",
   "name": "python",
   "nbconvert_exporter": "python",
   "pygments_lexer": "ipython3",
   "version": "3.8.8"
  }
 },
 "nbformat": 4,
 "nbformat_minor": 5
}
